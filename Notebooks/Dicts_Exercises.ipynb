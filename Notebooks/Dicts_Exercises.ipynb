{
 "cells": [
  {
   "cell_type": "code",
   "execution_count": 4,
   "id": "67a5ffcb",
   "metadata": {},
   "outputs": [
    {
     "name": "stdout",
     "output_type": "stream",
     "text": [
      "{'hello': [0, 2], 'world': [0, 1], 'of': [1], 'python': [1], 'again': [2]}\n"
     ]
    }
   ],
   "source": [
    "\"\"\" Exercise 1: Inverted Index\n",
    "Task: Write a function build_inverted_index that takes a list of strings (documents) and builds an inverted index. The index should map each word to a list of document indices in which the word appears.\n",
    "\"\"\"\n",
    "\n",
    "def buildIndex(tgt): \n",
    "    index = dict()\n",
    "    for idx, doc in enumerate(tgt):\n",
    "        splt = doc.split(\" \")\n",
    "        for w in splt:\n",
    "            if w in index: \n",
    "                index[w].append(idx)\n",
    "            else:\n",
    "                index[w] = [idx]\n",
    "    return index \n",
    "\n",
    "test = [\"hello world\", \"world of python\", \"hello again\"]\n",
    "\n",
    "print(buildIndex(test))\n"
   ]
  },
  {
   "cell_type": "code",
   "execution_count": 1,
   "id": "bcd4fc9e-b0be-40b5-9304-648b9670547f",
   "metadata": {},
   "outputs": [
    {
     "name": "stdout",
     "output_type": "stream",
     "text": [
      "Hello World!!!\n"
     ]
    }
   ],
   "source": []
  },
  {
   "cell_type": "code",
   "execution_count": 8,
   "id": "57ab8726-dabb-478c-87d2-d68a193a41a1",
   "metadata": {},
   "outputs": [
    {
     "data": {
      "text/plain": [
       "[1, 2, 3, 4, 5, 6, 7, 8, 9]"
      ]
     },
     "execution_count": 8,
     "metadata": {},
     "output_type": "execute_result"
    }
   ],
   "source": [
    "mylist3"
   ]
  },
  {
   "cell_type": "code",
   "execution_count": null,
   "id": "52db75ee",
   "metadata": {},
   "outputs": [],
   "source": []
  }
 ],
 "metadata": {
  "kernelspec": {
   "display_name": "Python 3 (ipykernel)",
   "language": "python",
   "name": "python3"
  },
  "language_info": {
   "codemirror_mode": {
    "name": "ipython",
    "version": 3
   },
   "file_extension": ".py",
   "mimetype": "text/x-python",
   "name": "python",
   "nbconvert_exporter": "python",
   "pygments_lexer": "ipython3",
   "version": "3.12.4"
  }
 },
 "nbformat": 4,
 "nbformat_minor": 5
}
