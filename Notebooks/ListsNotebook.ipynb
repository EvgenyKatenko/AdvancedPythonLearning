{
 "cells": [
  {
   "cell_type": "code",
   "execution_count": 6,
   "id": "67a5ffcb",
   "metadata": {},
   "outputs": [],
   "source": [
    "import os\n",
    "import sys\n",
    "par_dir = os.path.abspath('..')\n",
    "sys.path.append(par_dir)"
   ]
  },
  {
   "cell_type": "code",
   "execution_count": 7,
   "id": "bcd4fc9e-b0be-40b5-9304-648b9670547f",
   "metadata": {},
   "outputs": [],
   "source": [
    "from lists import mylist3"
   ]
  },
  {
   "cell_type": "code",
   "execution_count": 8,
   "id": "57ab8726-dabb-478c-87d2-d68a193a41a1",
   "metadata": {},
   "outputs": [
    {
     "data": {
      "text/plain": [
       "[1, 2, 3, 4, 5, 6, 7, 8, 9]"
      ]
     },
     "execution_count": 8,
     "metadata": {},
     "output_type": "execute_result"
    }
   ],
   "source": [
    "mylist3"
   ]
  },
  {
   "cell_type": "code",
   "execution_count": null,
   "id": "52db75ee",
   "metadata": {},
   "outputs": [],
   "source": []
  }
 ],
 "metadata": {
  "kernelspec": {
   "display_name": "Python 3 (ipykernel)",
   "language": "python",
   "name": "python3"
  },
  "language_info": {
   "codemirror_mode": {
    "name": "ipython",
    "version": 3
   },
   "file_extension": ".py",
   "mimetype": "text/x-python",
   "name": "python",
   "nbconvert_exporter": "python",
   "pygments_lexer": "ipython3",
   "version": "3.12.4"
  }
 },
 "nbformat": 4,
 "nbformat_minor": 5
}
